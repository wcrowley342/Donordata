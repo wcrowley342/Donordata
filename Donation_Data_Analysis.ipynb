{
  "nbformat": 4,
  "nbformat_minor": 0,
  "metadata": {
    "colab": {
      "name": "Donation Data Analysis.ipynb",
      "provenance": [],
      "toc_visible": true,
      "authorship_tag": "ABX9TyPxl3Q883zaW+nG8GMl8zmg",
      "include_colab_link": true
    },
    "kernelspec": {
      "name": "python3",
      "display_name": "Python 3"
    },
    "language_info": {
      "name": "python"
    }
  },
  "cells": [
    {
      "cell_type": "markdown",
      "metadata": {
        "id": "view-in-github",
        "colab_type": "text"
      },
      "source": [
        "<a href=\"https://colab.research.google.com/github/wcrowley342/Donordata/blob/main/Donation_Data_Analysis.ipynb\" target=\"_parent\"><img src=\"https://colab.research.google.com/assets/colab-badge.svg\" alt=\"Open In Colab\"/></a>"
      ]
    },
    {
      "cell_type": "markdown",
      "source": [
        "text/copy on how nonprofits can benefit from data analysis. Brief intro of unscripted and description of data in order to run through a real life example"
      ],
      "metadata": {
        "id": "JTIJnONidTMF"
      }
    },
    {
      "cell_type": "markdown",
      "source": [
        "fivethirtyeight style guide usage links/resources\n",
        "\n",
        "\n",
        "*   https://www.dataquest.io/blog/making-538-plots/\n",
        "*   https://matplotlib.org/stable/gallery/style_sheets/fivethirtyeight.html\n",
        "*   https://towardsdatascience.com/a-beginners-guide-to-plotting-fivethrityeight-like-visualizations-5b63d3f3ddd0\n",
        "\n"
      ],
      "metadata": {
        "id": "VUT7_MNmEud5"
      }
    },
    {
      "cell_type": "markdown",
      "source": [
        "# Data import & Prep"
      ],
      "metadata": {
        "id": "2i7CvHTZdGMC"
      }
    },
    {
      "cell_type": "code",
      "execution_count": null,
      "metadata": {
        "id": "bQY85g8Cbd1g"
      },
      "outputs": [],
      "source": [
        "#import necessary packages\n",
        "import pandas as pd\n",
        "import numpy as np\n",
        "import seaborn as sns\n",
        "import matplotlib.pyplot as plt\n",
        "\n",
        "#use FiveThirtyEight Style\n",
        "import matplotlib.style as style\n",
        "plt.style.use('fivethirtyeight')\n",
        "\n",
        "#import data\n",
        "donations = pd.read_csv('https:[ENTER GITHUB RAW URL HERE')\n",
        "\n",
        "#preview/inspect data\n",
        "donations.head()"
      ]
    },
    {
      "cell_type": "markdown",
      "source": [
        "Use that sweet dataprep package? \n",
        "https://medium.com/towards-data-science/speeding-up-exploratory-data-analysis-with-python-838fe5e25b43  "
      ],
      "metadata": {
        "id": "9Mf0Zl84c8cJ"
      }
    },
    {
      "cell_type": "code",
      "source": [
        "#check number of rows/columns\n",
        "\n",
        "print(donations.shape)"
      ],
      "metadata": {
        "id": "F207azr8htp9"
      },
      "execution_count": null,
      "outputs": []
    },
    {
      "cell_type": "code",
      "source": [
        "#review columns / summary statistics\n",
        "donations.describe()"
      ],
      "metadata": {
        "id": "0LqD80oWdoq1"
      },
      "execution_count": null,
      "outputs": []
    },
    {
      "cell_type": "code",
      "source": [
        "#.info() function: Explore data types and nulls/ NaNs in your data\n",
        "donations.info()"
      ],
      "metadata": {
        "id": "eRoti3-Xdx-g"
      },
      "execution_count": null,
      "outputs": []
    },
    {
      "cell_type": "code",
      "source": [
        "#check null values\n",
        "donations.isnull().sum"
      ],
      "metadata": {
        "id": "ouMFQSE9dusz"
      },
      "execution_count": null,
      "outputs": []
    },
    {
      "cell_type": "code",
      "source": [
        ""
      ],
      "metadata": {
        "id": "KjgozlOXh9uO"
      },
      "execution_count": null,
      "outputs": []
    },
    {
      "cell_type": "markdown",
      "source": [
        "# Data cleanup"
      ],
      "metadata": {
        "id": "BhsJP2UidJSq"
      }
    },
    {
      "cell_type": "code",
      "source": [
        "#dropping some columns\n",
        "\n",
        "donations = donations.drop(columns=['Total'])\n",
        "\n",
        "donations.head(5)"
      ],
      "metadata": {
        "id": "lQmJEeomkFp_"
      },
      "execution_count": null,
      "outputs": []
    },
    {
      "cell_type": "code",
      "source": [
        "#feature engineering / creating columns\n",
        "\n",
        "donations['Total'] = donations['HP'] + donations['Attack']"
      ],
      "metadata": {
        "id": "68BkFdiTj-oV"
      },
      "execution_count": null,
      "outputs": []
    },
    {
      "cell_type": "markdown",
      "source": [
        "# EDA (visual)"
      ],
      "metadata": {
        "id": "c_F56sqMiWLr"
      }
    },
    {
      "cell_type": "code",
      "source": [
        "#add in 538 formatting"
      ],
      "metadata": {
        "id": "Pzmdz0voicvx"
      },
      "execution_count": null,
      "outputs": []
    },
    {
      "cell_type": "code",
      "source": [
        "#histograms\n",
        "\n",
        "title ='Medium blogs text length'\n",
        "x ='Number of charecters in post'\n",
        "y = 'Frequency'\n",
        "\n",
        "data['claps'].plot(kind='hist',bins=30)"
      ],
      "metadata": {
        "id": "bKYOZo-dc1EZ"
      },
      "execution_count": null,
      "outputs": []
    },
    {
      "cell_type": "code",
      "source": [
        "#boxplots\n",
        "data.plot(kind='box',x='reading_time',y='text_len')"
      ],
      "metadata": {
        "id": "unlpVbDFihu_"
      },
      "execution_count": null,
      "outputs": []
    },
    {
      "cell_type": "code",
      "source": [
        "#heatmap based on STATE!! ($$ > COUNT of donations )"
      ],
      "metadata": {
        "id": "otbhZn7TrlPL"
      },
      "execution_count": null,
      "outputs": []
    },
    {
      "cell_type": "markdown",
      "source": [
        "# EDA (statistical)"
      ],
      "metadata": {
        "id": "LZCioSU8iwwD"
      }
    },
    {
      "cell_type": "code",
      "source": [
        "#average values\n",
        "\n",
        "donations.mean()"
      ],
      "metadata": {
        "id": "eDeGtp1QizAa"
      },
      "execution_count": null,
      "outputs": []
    },
    {
      "cell_type": "markdown",
      "source": [
        "# Comparing Campaigns / Group by"
      ],
      "metadata": {
        "id": "X0VpjU-kjVzZ"
      }
    },
    {
      "cell_type": "code",
      "source": [
        "#group by type, sort by best attack\n",
        "\n",
        "df.groupby(['Type 1']).mean().sort_values('Attack',ascending=False)"
      ],
      "metadata": {
        "id": "GXxESB6ijbLX"
      },
      "execution_count": null,
      "outputs": []
    },
    {
      "cell_type": "markdown",
      "source": [
        "# Segmenting donors"
      ],
      "metadata": {
        "id": "Yv4kgcB2jr_B"
      }
    },
    {
      "cell_type": "code",
      "source": [
        "#RFM analysis???"
      ],
      "metadata": {
        "id": "nl5eFYyRk3LQ"
      },
      "execution_count": null,
      "outputs": []
    },
    {
      "cell_type": "code",
      "source": [
        "#read speicfic rows of donations\n",
        "\n",
        "donations.loc[donations['Amount'] > 400]"
      ],
      "metadata": {
        "id": "0HwGDa-PjvLj"
      },
      "execution_count": null,
      "outputs": []
    },
    {
      "cell_type": "code",
      "source": [
        "#heatmap based on STATE!! ($$ > COUNT of donations )"
      ],
      "metadata": {
        "id": "8zL2cFs3rtoI"
      },
      "execution_count": null,
      "outputs": []
    }
  ]
}